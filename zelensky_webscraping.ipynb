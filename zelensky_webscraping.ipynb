{
 "cells": [
  {
   "cell_type": "code",
   "execution_count": 1,
   "id": "766008c6",
   "metadata": {},
   "outputs": [
    {
     "name": "stdout",
     "output_type": "stream",
     "text": [
      "Requirement already satisfied: webdriver_manager in /usr/local/anaconda/envs/detectshift/lib/python3.7/site-packages (3.7.0)\r\n",
      "Requirement already satisfied: python-dotenv in /usr/local/anaconda/envs/detectshift/lib/python3.7/site-packages (from webdriver_manager) (0.20.0)\r\n",
      "Requirement already satisfied: requests in /usr/local/anaconda/envs/detectshift/lib/python3.7/site-packages (from webdriver_manager) (2.27.1)\r\n",
      "Requirement already satisfied: certifi>=2017.4.17 in /usr/local/anaconda/envs/detectshift/lib/python3.7/site-packages (from requests->webdriver_manager) (2021.10.8)\r\n",
      "Requirement already satisfied: idna<4,>=2.5 in /usr/local/anaconda/envs/detectshift/lib/python3.7/site-packages (from requests->webdriver_manager) (3.3)\r\n",
      "Requirement already satisfied: charset-normalizer~=2.0.0 in /usr/local/anaconda/envs/detectshift/lib/python3.7/site-packages (from requests->webdriver_manager) (2.0.12)\r\n",
      "Requirement already satisfied: urllib3<1.27,>=1.21.1 in /usr/local/anaconda/envs/detectshift/lib/python3.7/site-packages (from requests->webdriver_manager) (1.26.9)\r\n"
     ]
    }
   ],
   "source": [
    "!pip install webdriver_manager"
   ]
  },
  {
   "cell_type": "code",
   "execution_count": 15,
   "id": "16766d20",
   "metadata": {},
   "outputs": [
    {
     "name": "stdout",
     "output_type": "stream",
     "text": [
      "\n"
     ]
    },
    {
     "name": "stderr",
     "output_type": "stream",
     "text": [
      "[WDM] - ====== WebDriver manager ======\n",
      "[WDM] - Current google-chrome version is 102.0.5005\n",
      "[WDM] - Get LATEST chromedriver version for 102.0.5005 google-chrome\n",
      "[WDM] - Driver [/Users/maiapolo/.wdm/drivers/chromedriver/mac64/102.0.5005.61/chromedriver] found in cache\n",
      "/usr/local/anaconda/envs/detectshift/lib/python3.7/site-packages/ipykernel_launcher.py:8: DeprecationWarning: executable_path has been deprecated, please pass in a Service object\n",
      "  \n"
     ]
    }
   ],
   "source": [
    "import requests\n",
    "from bs4 import BeautifulSoup as bs\n",
    "from urllib.parse import urlparse\n",
    "from tqdm import tqdm\n",
    "from selenium import webdriver\n",
    "from webdriver_manager.chrome import ChromeDriverManager\n",
    "import pandas as pd\n",
    "driver = webdriver.Chrome(ChromeDriverManager().install())"
   ]
  },
  {
   "cell_type": "code",
   "execution_count": 3,
   "id": "bee58fcc",
   "metadata": {},
   "outputs": [
    {
     "name": "stderr",
     "output_type": "stream",
     "text": [
      "100%|██████████| 20/20 [00:09<00:00,  2.06it/s]\n"
     ]
    }
   ],
   "source": [
    "links = []\n",
    "\n",
    "for i in tqdm(range(1,21)):\n",
    "    \n",
    "    driver.get(\"https://www.president.gov.ua/en/news/speeches?page=\"+str(i))\n",
    "\n",
    "    source=str(driver.page_source)\n",
    "    txt = source\n",
    "    ind, ind2, ind3 = 0, 0, 0\n",
    "\n",
    "    while True:\n",
    "        txt=txt[(ind+ind2+ind3):]\n",
    "\n",
    "        ind=txt.find('item_stat_headline')\n",
    "        ind2=txt[ind:].find('https://')\n",
    "        ind3=txt[(ind+ind2):].find('\">')\n",
    "\n",
    "        links.append([txt[(ind+ind2):(ind+ind2+ind3)]])\n",
    "\n",
    "        if links[-1]==['']: \n",
    "            links=links[:-1]\n",
    "            break"
   ]
  },
  {
   "cell_type": "code",
   "execution_count": 4,
   "id": "ccab1668",
   "metadata": {},
   "outputs": [
    {
     "data": {
      "text/plain": [
       "192"
      ]
     },
     "execution_count": 4,
     "metadata": {},
     "output_type": "execute_result"
    }
   ],
   "source": [
    "len(links)"
   ]
  },
  {
   "cell_type": "code",
   "execution_count": 5,
   "id": "6cce7835",
   "metadata": {},
   "outputs": [
    {
     "name": "stderr",
     "output_type": "stream",
     "text": [
      "100%|██████████| 192/192 [04:52<00:00,  1.52s/it]\n"
     ]
    }
   ],
   "source": [
    "for i in tqdm(range(len(links))):\n",
    "\n",
    "    driver.get(links[i][0])\n",
    "\n",
    "    source=str(driver.page_source)\n",
    "    txt = source\n",
    "    \n",
    "    ind=txt.rfind('\"date\"')+7\n",
    "    ind2=txt[ind:].find('</p>')\n",
    "    date=txt[ind:(ind+ind2)]\n",
    "    date=\" \".join(date.split())\n",
    "\n",
    "    ind3=source[(ind+ind2):].find('title=\"\" alt=\"')+14\n",
    "    ind4=source[(ind+ind2+ind3):].find('\">')\n",
    "    title=source[(ind+ind2+ind3):(ind+ind2+ind3+ind4)]\n",
    "\n",
    "    soup = bs(source[(ind+ind2):], features=\"html.parser\")\n",
    "    text = soup.get_text()\n",
    "    ind5=text.rfind('\\n\\n\\n\\n\\n\\nv')\n",
    "    text = text[:ind5]\n",
    "    text=text.replace(\"\\n\", \" \")\n",
    "    text=\" \".join(text.split())\n",
    "\n",
    "    links[i]+=[date,title,text]"
   ]
  },
  {
   "cell_type": "code",
   "execution_count": 12,
   "id": "c12cf404",
   "metadata": {},
   "outputs": [],
   "source": [
    "data = {'url':[l[0] for l in links], 'date':[l[1] for l in links], 'title':[l[2] for l in links], 'text':[l[3] for l in links]}"
   ]
  },
  {
   "cell_type": "code",
   "execution_count": 17,
   "id": "06a3520f",
   "metadata": {},
   "outputs": [],
   "source": [
    "data=pd.DataFrame(data)"
   ]
  },
  {
   "cell_type": "code",
   "execution_count": 19,
   "id": "016cbfdf",
   "metadata": {},
   "outputs": [],
   "source": [
    "data.to_csv('data/zelensky_speeches.csv')"
   ]
  },
  {
   "cell_type": "code",
   "execution_count": null,
   "id": "9517a28e",
   "metadata": {},
   "outputs": [],
   "source": []
  }
 ],
 "metadata": {
  "kernelspec": {
   "display_name": "Python 3 (ipykernel)",
   "language": "python",
   "name": "python3"
  },
  "language_info": {
   "codemirror_mode": {
    "name": "ipython",
    "version": 3
   },
   "file_extension": ".py",
   "mimetype": "text/x-python",
   "name": "python",
   "nbconvert_exporter": "python",
   "pygments_lexer": "ipython3",
   "version": "3.7.13"
  }
 },
 "nbformat": 4,
 "nbformat_minor": 5
}
